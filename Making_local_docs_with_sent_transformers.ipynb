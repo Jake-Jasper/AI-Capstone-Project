{
  "nbformat": 4,
  "nbformat_minor": 0,
  "metadata": {
    "colab": {
      "provenance": [],
      "mount_file_id": "1N0AFUBTK6rYHShCsaWxMzTHbKenuxaDB",
      "authorship_tag": "ABX9TyPhQd6q7qi+B2PaGl8zjBnA",
      "include_colab_link": true
    },
    "kernelspec": {
      "name": "python3",
      "display_name": "Python 3"
    },
    "language_info": {
      "name": "python"
    }
  },
  "cells": [
    {
      "cell_type": "markdown",
      "metadata": {
        "id": "view-in-github",
        "colab_type": "text"
      },
      "source": [
        "<a href=\"https://colab.research.google.com/github/Jake-Jasper/AI-Capstone-Project/blob/main/Making_local_docs_with_sent_transformers.ipynb\" target=\"_parent\"><img src=\"https://colab.research.google.com/assets/colab-badge.svg\" alt=\"Open In Colab\"/></a>"
      ]
    },
    {
      "cell_type": "code",
      "source": [
        "!pip install -Uq sentence-transformers pdfminer.six spacy"
      ],
      "metadata": {
        "colab": {
          "base_uri": "https://localhost:8080/"
        },
        "id": "bJkfToYb_RiC",
        "outputId": "7967e232-b484-4000-b1e3-ce32b5d2bc7e"
      },
      "execution_count": null,
      "outputs": [
        {
          "output_type": "stream",
          "name": "stdout",
          "text": [
            "\u001b[2K     \u001b[90m━━━━━━━━━━━━━━━━━━━━━━━━━━━━━━━━━━━━━━━━\u001b[0m \u001b[32m163.3/163.3 kB\u001b[0m \u001b[31m2.8 MB/s\u001b[0m eta \u001b[36m0:00:00\u001b[0m\n",
            "\u001b[2K     \u001b[90m━━━━━━━━━━━━━━━━━━━━━━━━━━━━━━━━━━━━━━━━\u001b[0m \u001b[32m5.6/5.6 MB\u001b[0m \u001b[31m14.0 MB/s\u001b[0m eta \u001b[36m0:00:00\u001b[0m\n",
            "\u001b[2K     \u001b[90m━━━━━━━━━━━━━━━━━━━━━━━━━━━━━━━━━━━━━━━━\u001b[0m \u001b[32m23.7/23.7 MB\u001b[0m \u001b[31m19.1 MB/s\u001b[0m eta \u001b[36m0:00:00\u001b[0m\n",
            "\u001b[2K     \u001b[90m━━━━━━━━━━━━━━━━━━━━━━━━━━━━━━━━━━━━━━━━\u001b[0m \u001b[32m823.6/823.6 kB\u001b[0m \u001b[31m16.1 MB/s\u001b[0m eta \u001b[36m0:00:00\u001b[0m\n",
            "\u001b[2K     \u001b[90m━━━━━━━━━━━━━━━━━━━━━━━━━━━━━━━━━━━━━━━━\u001b[0m \u001b[32m14.1/14.1 MB\u001b[0m \u001b[31m29.4 MB/s\u001b[0m eta \u001b[36m0:00:00\u001b[0m\n",
            "\u001b[2K     \u001b[90m━━━━━━━━━━━━━━━━━━━━━━━━━━━━━━━━━━━━━━━━\u001b[0m \u001b[32m731.7/731.7 MB\u001b[0m \u001b[31m1.8 MB/s\u001b[0m eta \u001b[36m0:00:00\u001b[0m\n",
            "\u001b[2K     \u001b[90m━━━━━━━━━━━━━━━━━━━━━━━━━━━━━━━━━━━━━━━━\u001b[0m \u001b[32m410.6/410.6 MB\u001b[0m \u001b[31m3.6 MB/s\u001b[0m eta \u001b[36m0:00:00\u001b[0m\n",
            "\u001b[2K     \u001b[90m━━━━━━━━━━━━━━━━━━━━━━━━━━━━━━━━━━━━━━━━\u001b[0m \u001b[32m121.6/121.6 MB\u001b[0m \u001b[31m8.3 MB/s\u001b[0m eta \u001b[36m0:00:00\u001b[0m\n",
            "\u001b[2K     \u001b[90m━━━━━━━━━━━━━━━━━━━━━━━━━━━━━━━━━━━━━━━━\u001b[0m \u001b[32m56.5/56.5 MB\u001b[0m \u001b[31m8.6 MB/s\u001b[0m eta \u001b[36m0:00:00\u001b[0m\n",
            "\u001b[2K     \u001b[90m━━━━━━━━━━━━━━━━━━━━━━━━━━━━━━━━━━━━━━━━\u001b[0m \u001b[32m124.2/124.2 MB\u001b[0m \u001b[31m8.4 MB/s\u001b[0m eta \u001b[36m0:00:00\u001b[0m\n",
            "\u001b[2K     \u001b[90m━━━━━━━━━━━━━━━━━━━━━━━━━━━━━━━━━━━━━━━━\u001b[0m \u001b[32m196.0/196.0 MB\u001b[0m \u001b[31m5.9 MB/s\u001b[0m eta \u001b[36m0:00:00\u001b[0m\n",
            "\u001b[2K     \u001b[90m━━━━━━━━━━━━━━━━━━━━━━━━━━━━━━━━━━━━━━━━\u001b[0m \u001b[32m166.0/166.0 MB\u001b[0m \u001b[31m5.9 MB/s\u001b[0m eta \u001b[36m0:00:00\u001b[0m\n",
            "\u001b[2K     \u001b[90m━━━━━━━━━━━━━━━━━━━━━━━━━━━━━━━━━━━━━━━━\u001b[0m \u001b[32m99.1/99.1 kB\u001b[0m \u001b[31m8.6 MB/s\u001b[0m eta \u001b[36m0:00:00\u001b[0m\n",
            "\u001b[2K     \u001b[90m━━━━━━━━━━━━━━━━━━━━━━━━━━━━━━━━━━━━━━━━\u001b[0m \u001b[32m21.1/21.1 MB\u001b[0m \u001b[31m42.3 MB/s\u001b[0m eta \u001b[36m0:00:00\u001b[0m\n",
            "\u001b[?25h"
          ]
        }
      ]
    },
    {
      "cell_type": "code",
      "execution_count": null,
      "metadata": {
        "id": "7SgceLUp_CPw"
      },
      "outputs": [],
      "source": [
        "from pdfminer.high_level import extract_text\n",
        "from sentence_transformers import util\n",
        "import numpy as np\n",
        "from spacy.lang.en import English\n",
        "import spacy, os,sqlite3, pdfminer\n",
        "from sentence_transformers import SentenceTransformer\n",
        "\n",
        "nlp = spacy.load('en_core_web_sm')"
      ]
    },
    {
      "cell_type": "markdown",
      "source": [],
      "metadata": {
        "id": "1iVWoP8WCBjd"
      }
    },
    {
      "cell_type": "code",
      "source": [
        "# conn = sqlite3.connect('Knowledge-database-29-3-24.db')\n",
        "# cursor=conn.cursor()\n",
        "# cursor.execute(\"DROP TABLE documents\")\n",
        "# conn.commit()\n",
        "# conn.close()"
      ],
      "metadata": {
        "id": "RTsyh9NBIsnH"
      },
      "execution_count": null,
      "outputs": []
    },
    {
      "cell_type": "code",
      "source": [
        "# Establish a connection to the SQLite database\n",
        "conn = sqlite3.connect('Knowledge-database-29-3-24.db')\n",
        "\n",
        "# Create a cursor object\n",
        "cursor = conn.cursor()\n",
        "\n",
        "# Execute SQL queries, change embedding type to somethiiing more suitbale in future\n",
        "# In final version normalise this by having a documents table, not need to have title here\n",
        "cursor.execute('''CREATE TABLE IF NOT EXISTS documents (\n",
        "                    id INTEGER PRIMARY KEY,\n",
        "                    document_ID INTEGER,\n",
        "                    document_title TEXT,\n",
        "                    sentence TEXT,\n",
        "                    embedding BLOB)''')\n",
        "\n",
        "# Commit the transaction\n",
        "conn.commit()\n",
        "conn.close()\n"
      ],
      "metadata": {
        "id": "At-U2Hj6CGiz"
      },
      "execution_count": null,
      "outputs": []
    },
    {
      "cell_type": "code",
      "source": [],
      "metadata": {
        "id": "0627LcPyC0li"
      },
      "execution_count": null,
      "outputs": []
    },
    {
      "cell_type": "code",
      "source": [
        "def read_pdf(file):\n",
        "    text = extract_text(file)\n",
        "    return text"
      ],
      "metadata": {
        "id": "sJoCZ6WjA-kL"
      },
      "execution_count": null,
      "outputs": []
    },
    {
      "cell_type": "code",
      "source": [
        "DIR = \"/content/drive/MyDrive/WRAP food reports\""
      ],
      "metadata": {
        "id": "Y6uVAKLRBC2T"
      },
      "execution_count": null,
      "outputs": []
    },
    {
      "cell_type": "code",
      "source": [
        "model = SentenceTransformer('sentence-transformers/all-MiniLM-L6-v2')"
      ],
      "metadata": {
        "id": "D9oEQBYKDcx-"
      },
      "execution_count": null,
      "outputs": []
    },
    {
      "cell_type": "code",
      "source": [
        "  # Establish a connection to the SQLite database\n",
        "conn = sqlite3.connect('Knowledge-database-29-3-24.db')\n",
        "\n",
        "# Create a cursor object\n",
        "cursor = conn.cursor()\n",
        "\n",
        "for num, title in enumerate(os.listdir(DIR)):\n",
        "\n",
        "    path = DIR + \"/\" + title\n",
        "    # read doc\n",
        "    text = read_pdf(path)\n",
        "    text = text.replace(\"\\n\", \"\")\n",
        "    # split into sentences\n",
        "    doc = nlp(text)\n",
        "    # loop to embed sentences\n",
        "    for sent in doc.sents:\n",
        "        embedding = model.encode(sent.text)\n",
        "        cursor.execute(\"\"\"INSERT INTO documents (document_id,\n",
        "                                                document_title,\n",
        "                                                sentence,\n",
        "                                                embedding) VALUES (?, ?, ?, ?)\"\"\",\n",
        "                                                 (num, title, sent.text, embedding))\n",
        "\n",
        "conn.commit()\n",
        "conn.close()"
      ],
      "metadata": {
        "id": "vWZtyR0KBZlM"
      },
      "execution_count": null,
      "outputs": []
    },
    {
      "cell_type": "code",
      "source": [
        "\n",
        "def find_top_k_relevance(question=[\"No question\"], model=None, n=5, db=\"Knowledge-database-29-3-24.db\"):\n",
        "  q = model.encode(question)\n",
        "  scores = {}\n",
        "  conn = sqlite3.connect(db)\n",
        "\n",
        "# Create a cursor object\n",
        "  cursor = conn.cursor()\n",
        "  # load row by row\n",
        "  cursor.execute('SELECT * FROM documents')\n",
        "  for row in cursor:\n",
        "    scores[row[0]] = util.pytorch_cos_sim(q, np.frombuffer(row[4], dtype=np.float32)).numpy()\n",
        "\n",
        "  return dict(sorted(scores.items(), key = lambda x: x[1], reverse = True)[:n])\n",
        "find_top_k_relevance(question =[\"How do I increase shelf life of lettuce?\"], model=model)"
      ],
      "metadata": {
        "colab": {
          "base_uri": "https://localhost:8080/"
        },
        "id": "jTeXBw_JF2uS",
        "outputId": "69b3dd32-ab0c-47f4-a7f9-93aaa6bef6fa"
      },
      "execution_count": null,
      "outputs": [
        {
          "output_type": "execute_result",
          "data": {
            "text/plain": [
              "{366: array([[0.711703]], dtype=float32),\n",
              " 365: array([[0.6810641]], dtype=float32),\n",
              " 364: array([[0.67368263]], dtype=float32),\n",
              " 367: array([[0.66278386]], dtype=float32),\n",
              " 299: array([[0.56608444]], dtype=float32)}"
            ]
          },
          "metadata": {},
          "execution_count": 87
        }
      ]
    },
    {
      "cell_type": "code",
      "source": [
        "import pprint\n",
        "conn = sqlite3.connect(\"Knowledge-database-29-3-24.db\")\n",
        "cursor = conn.cursor()\n",
        "cursor.execute(\"\"\"SELECT * FROM documents\n",
        "                 WHERE id = 366\"\"\")\n",
        "rows = cursor.fetchone()\n",
        "conn.close()\n",
        "pprint.pprint(f\"{rows[3]} context: {rows[2]}\")"
      ],
      "metadata": {
        "colab": {
          "base_uri": "https://localhost:8080/"
        },
        "id": "dF4s-xXlGZYP",
        "outputId": "c3126d02-7e5b-4cef-e0bd-ac391833b1ad"
      },
      "execution_count": null,
      "outputs": [
        {
          "output_type": "stream",
          "name": "stdout",
          "text": [
            "('Other effective methods included storing lettuce in a plastic bag or '\n",
            " 'unwrapped in the crisper drawer. context: WRAP-Evidence Review Plastic '\n",
            " 'Packaging and Fresh Produce 171218.pdf')\n"
          ]
        }
      ]
    },
    {
      "cell_type": "markdown",
      "source": [
        "#### I think from here the trick will be to increase the sentence lenght. But first, come up with a standard set of questions and then the relevance of the responses can be graded etc\n",
        "\n",
        "https://en.wikipedia.org/wiki/Evaluation_measures_(information_retrieval)\n",
        "\n",
        "## Question list (30)\n",
        "Have the relevant document for each so you can measure, recall, precision etc\n",
        "\n",
        "Best to complete this after asking the question to the system?\n",
        "\n",
        "|Doc_ID|Name|Relevant_Q|\n",
        "|---|---|---|\n",
        "|1|Evidence & insights - reducing household food waste & plastic packaging (packaged vs loose)|1,2,3,4,5,6,7|\n",
        "|2|Food waste collection guidance |8|\n",
        "|3|Food Waste Reduction Roadmap - Executive Summary|9|\n",
        "|4|Food Waste Reduction Roadmap - Executive Summary|9|\n",
        "|5|Food Waste Reduction Roadmap - Manufacturers|9|\n",
        "|6|Food Waste Reduction Roadmap - Primary Producers|9,10|\n",
        "|7|Food Waste Reduction Roadmap - Retail|9,11|\n",
        "|8|Identifying impacts from food and farm digestates|12,13|\n",
        "|9|Industry Guidance - Dealing with Household Food Waste at AD Facilities - Management of Liners|14,8|\n",
        "|10|Literature review - relationship between household food waste collection and food waste prevention||\n",
        "|11|The food waste reduction roadmap progress report 2022||\n",
        "|12|Towards the 2030 Food Waste Commitment -- setting our coalition baseline||\n",
        "|13|Upscaling farm food waste measurement in the UK||\n",
        "|14|WRAP-Evidence Review Plastic Packaging and Fresh Produce 171218||\n",
        "\n",
        "1. \"How should I store bananas?\"\n",
        "2. \"What temperature should I keep milk?\"\n",
        "3. \"How do I increase shelf life of lettuce?\n",
        "4. \"How does selling fresh produce loose, affect waste?\"\n",
        "5. \"What is a best-before date for\"?\n",
        "6. \"What is a use-by date for\"?\n",
        "7. \"How does removing date labels help?\"\n",
        "8. \"What are the reasons to not participate in a food waste scheme?\"\n",
        "9. \"What is the UN's sustainable development goal with respect to food?\"\n",
        "10. \"Which document pertains to primary producers and food waste?\"\n",
        "11. \"Which document pertains to retailers and food waste?\"\n",
        "12. \"What is the most common use for digestate?\"\n",
        "13. \"What affects the costs of valorisation?\"\n",
        "14. \"How many tonnes of food waste are there each year?\n",
        "15. \"What is the benefit of caddy liners?\"\n",
        "16. \"How to prevent food loss?\"\n",
        "17. \"How to prevent food waste?\"\n",
        "18. \"How does composting affect food waste?\"\n",
        "19. \"What are the main drivers of food waste?\"\n",
        "20. \"Online shopping and food waste\"\n",
        "21. \"What is involved with Courthold 2030?\"\n"
      ],
      "metadata": {
        "id": "otlKIwrjO3Ie"
      }
    }
  ]
}